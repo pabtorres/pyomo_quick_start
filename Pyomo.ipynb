{
  "nbformat": 4,
  "nbformat_minor": 0,
  "metadata": {
    "colab": {
      "provenance": []
    },
    "kernelspec": {
      "name": "python3",
      "display_name": "Python 3"
    },
    "language_info": {
      "name": "python"
    }
  },
  "cells": [
    {
      "cell_type": "markdown",
      "source": [
        "# Prueba de Biblioteca Pyomo\n",
        "\n",
        "El objetivo de este notebook es probar el funcionamiento de la biblioteca Pyomo."
      ],
      "metadata": {
        "id": "UcC6-x-VoMbp"
      }
    },
    {
      "cell_type": "markdown",
      "source": [
        "## Instalación de Bibliotecas\n",
        "\n",
        "Se instalan las bibliotecas necesarias."
      ],
      "metadata": {
        "id": "PlpqmZXIoXHD"
      }
    },
    {
      "cell_type": "code",
      "source": [
        "!pip install pyomo"
      ],
      "metadata": {
        "colab": {
          "base_uri": "https://localhost:8080/"
        },
        "id": "BWd-imGGoaA-",
        "outputId": "af5ba272-b11d-4df6-ddf7-f5b1009004d2"
      },
      "execution_count": 3,
      "outputs": [
        {
          "output_type": "stream",
          "name": "stdout",
          "text": [
            "Collecting pyomo\n",
            "  Downloading Pyomo-6.7.3-cp310-cp310-manylinux_2_17_x86_64.manylinux2014_x86_64.whl (12.8 MB)\n",
            "\u001b[2K     \u001b[90m━━━━━━━━━━━━━━━━━━━━━━━━━━━━━━━━━━━━━━━━\u001b[0m \u001b[32m12.8/12.8 MB\u001b[0m \u001b[31m31.7 MB/s\u001b[0m eta \u001b[36m0:00:00\u001b[0m\n",
            "\u001b[?25hCollecting ply (from pyomo)\n",
            "  Downloading ply-3.11-py2.py3-none-any.whl (49 kB)\n",
            "\u001b[2K     \u001b[90m━━━━━━━━━━━━━━━━━━━━━━━━━━━━━━━━━━━━━━━━\u001b[0m \u001b[32m49.6/49.6 kB\u001b[0m \u001b[31m7.0 MB/s\u001b[0m eta \u001b[36m0:00:00\u001b[0m\n",
            "\u001b[?25hInstalling collected packages: ply, pyomo\n",
            "Successfully installed ply-3.11 pyomo-6.7.3\n"
          ]
        }
      ]
    },
    {
      "cell_type": "code",
      "source": [
        "!apt-get install -y -qq glpk-utils"
      ],
      "metadata": {
        "colab": {
          "base_uri": "https://localhost:8080/"
        },
        "id": "pstGlvsLoquK",
        "outputId": "21fae8ba-8803-427f-fd2f-68e9828ae8e7"
      },
      "execution_count": 6,
      "outputs": [
        {
          "output_type": "stream",
          "name": "stdout",
          "text": [
            "Selecting previously unselected package libsuitesparseconfig5:amd64.\n",
            "(Reading database ... 121913 files and directories currently installed.)\n",
            "Preparing to unpack .../libsuitesparseconfig5_1%3a5.10.1+dfsg-4build1_amd64.deb ...\n",
            "Unpacking libsuitesparseconfig5:amd64 (1:5.10.1+dfsg-4build1) ...\n",
            "Selecting previously unselected package libamd2:amd64.\n",
            "Preparing to unpack .../libamd2_1%3a5.10.1+dfsg-4build1_amd64.deb ...\n",
            "Unpacking libamd2:amd64 (1:5.10.1+dfsg-4build1) ...\n",
            "Selecting previously unselected package libcolamd2:amd64.\n",
            "Preparing to unpack .../libcolamd2_1%3a5.10.1+dfsg-4build1_amd64.deb ...\n",
            "Unpacking libcolamd2:amd64 (1:5.10.1+dfsg-4build1) ...\n",
            "Selecting previously unselected package libglpk40:amd64.\n",
            "Preparing to unpack .../libglpk40_5.0-1_amd64.deb ...\n",
            "Unpacking libglpk40:amd64 (5.0-1) ...\n",
            "Selecting previously unselected package glpk-utils.\n",
            "Preparing to unpack .../glpk-utils_5.0-1_amd64.deb ...\n",
            "Unpacking glpk-utils (5.0-1) ...\n",
            "Setting up libsuitesparseconfig5:amd64 (1:5.10.1+dfsg-4build1) ...\n",
            "Setting up libamd2:amd64 (1:5.10.1+dfsg-4build1) ...\n",
            "Setting up libcolamd2:amd64 (1:5.10.1+dfsg-4build1) ...\n",
            "Setting up libglpk40:amd64 (5.0-1) ...\n",
            "Setting up glpk-utils (5.0-1) ...\n",
            "Processing triggers for man-db (2.10.2-1) ...\n",
            "Processing triggers for libc-bin (2.35-0ubuntu3.4) ...\n",
            "/sbin/ldconfig.real: /usr/local/lib/libtbbmalloc_proxy.so.2 is not a symbolic link\n",
            "\n",
            "/sbin/ldconfig.real: /usr/local/lib/libtbbmalloc.so.2 is not a symbolic link\n",
            "\n",
            "/sbin/ldconfig.real: /usr/local/lib/libtbbbind_2_0.so.3 is not a symbolic link\n",
            "\n",
            "/sbin/ldconfig.real: /usr/local/lib/libtbbbind_2_5.so.3 is not a symbolic link\n",
            "\n",
            "/sbin/ldconfig.real: /usr/local/lib/libtbb.so.12 is not a symbolic link\n",
            "\n",
            "/sbin/ldconfig.real: /usr/local/lib/libtbbbind.so.3 is not a symbolic link\n",
            "\n"
          ]
        }
      ]
    },
    {
      "cell_type": "markdown",
      "source": [
        "## Modelamiento Matemático\n",
        "\n",
        "Se define la función, las variables y las restricciones para el ejemplo a implementar.\n",
        "\n"
      ],
      "metadata": {
        "id": "7xEz7Zhird1l"
      }
    },
    {
      "cell_type": "markdown",
      "source": [
        "Maximizar:\n",
        "\n",
        "$f(x,y) = 40x + 30y$\n",
        "\n",
        "Sujeto a:\n",
        "\n",
        "$x \\leq 40$\n",
        "\n",
        "$x + y \\leq 80$\n",
        "\n",
        "$2x + y \\leq 100$\n",
        "\n",
        "$x \\geq 0, \\quad y \\geq 0$\n"
      ],
      "metadata": {
        "id": "q3mOZgt2rqlj"
      }
    },
    {
      "cell_type": "markdown",
      "source": [
        "## Implementación en Pyomo\n",
        "\n",
        "Se resume lo clave para poder hacer funcionar la biblioteca.\n",
        "\n",
        "```\n",
        "## Implementación en Pyomo\n",
        "\n",
        "# Importar la biblioteca Pyomo y todas las funciones y clases\n",
        "from pyomo.environ import *\n",
        "\n",
        "# Definir el modelo concreto\n",
        "modelo = ConcreteModel()\n",
        "\n",
        "# Definir las variables de decisión y su dominio\n",
        "modelo.var = Var(domain=NonNegativeReals)  # Por ejemplo, dominio no negativo\n",
        "\n",
        "# Definir la función objetivo y especificar el sentido (maximizar o minimizar)\n",
        "modelo.obj = Objective(expr=..., sense=maximize)  # expr debe ser la expresión de la función objetivo\n",
        "\n",
        "# Definir las restricciones del modelo\n",
        "modelo.res = Constraint(expr=...)  # expr debe ser la expresión de la restricción\n",
        "\n",
        "# Especificación del Solver (ejemplo con GLPK)\n",
        "SolverFactory('glpk', executable='/usr/bin/glpsol').solve(modelo).write()\n",
        "\n",
        "# Nota: Asegúrese de reemplazar '...' con expresiones y parámetros adecuados para tu problema de optimización.\n",
        "\n",
        "```\n",
        "\n",
        "\n",
        "\n"
      ],
      "metadata": {
        "id": "-r0rb2HOoSiK"
      }
    },
    {
      "cell_type": "code",
      "source": [
        "# Importación de Pyomo\n",
        "from pyomo.environ import *\n",
        "\n",
        "# Instancia del modelo\n",
        "modelo = ConcreteModel()\n",
        "\n",
        "# Se definen las variables de decisión y su dominio\n",
        "modelo.x = Var(domain=NonNegativeReals)\n",
        "modelo.y = Var(domain=NonNegativeReals)\n",
        "\n",
        "# Se declara la función objetivo\n",
        "modelo.profit = Objective(expr=40 * modelo.x + 30 * modelo.y, sense=maximize)\n",
        "\n",
        "# Se declaran las restricciones del modelo con nombres más generalizados\n",
        "modelo.restriccion_demanda = Constraint(expr=modelo.x <= 40)\n",
        "modelo.restriccion_recursos1 = Constraint(expr=modelo.x + modelo.y <= 80)\n",
        "modelo.restriccion_recursos2 = Constraint(expr=2 * modelo.x + modelo.y <= 100)\n",
        "\n",
        "modelo.pprint()\n",
        "\n",
        "# Especificación y Ejecución del Solver\n",
        "SolverFactory('glpk', executable='/usr/bin/glpsol').solve(modelo).write()\n",
        "\n",
        "# Mostrar Solución en Pantalla\n",
        "\n",
        "# Valor óptimo de la función objetivo\n",
        "print('\\nFunción Objetivo = ', modelo.profit())\n",
        "\n",
        "# Argumento máximo de las variables de decisión\n",
        "print('\\nVariables de Decisión')\n",
        "print('x = ', modelo.x())\n",
        "print('y = ', modelo.y())\n",
        "\n",
        "# Restricciones\n",
        "print('\\nRestricciones')\n",
        "print('Demanda  = ', modelo.restriccion_demanda())\n",
        "print('Recursos 1 = ', modelo.restriccion_recursos1())\n",
        "print('Recursos 2 = ', modelo.restriccion_recursos2())"
      ],
      "metadata": {
        "colab": {
          "base_uri": "https://localhost:8080/"
        },
        "id": "QLNggR__oInC",
        "outputId": "ab17856f-f5be-4815-f46e-91d4187a5662"
      },
      "execution_count": 16,
      "outputs": [
        {
          "output_type": "stream",
          "name": "stdout",
          "text": [
            "2 Var Declarations\n",
            "    x : Size=1, Index=None\n",
            "        Key  : Lower : Value : Upper : Fixed : Stale : Domain\n",
            "        None :     0 :  None :  None : False :  True : NonNegativeReals\n",
            "    y : Size=1, Index=None\n",
            "        Key  : Lower : Value : Upper : Fixed : Stale : Domain\n",
            "        None :     0 :  None :  None : False :  True : NonNegativeReals\n",
            "\n",
            "1 Objective Declarations\n",
            "    profit : Size=1, Index=None, Active=True\n",
            "        Key  : Active : Sense    : Expression\n",
            "        None :   True : maximize : 40*x + 30*y\n",
            "\n",
            "3 Constraint Declarations\n",
            "    restriccion_demanda : Size=1, Index=None, Active=True\n",
            "        Key  : Lower : Body : Upper : Active\n",
            "        None :  -Inf :    x :  40.0 :   True\n",
            "    restriccion_recursos1 : Size=1, Index=None, Active=True\n",
            "        Key  : Lower : Body  : Upper : Active\n",
            "        None :  -Inf : x + y :  80.0 :   True\n",
            "    restriccion_recursos2 : Size=1, Index=None, Active=True\n",
            "        Key  : Lower : Body    : Upper : Active\n",
            "        None :  -Inf : 2*x + y : 100.0 :   True\n",
            "\n",
            "6 Declarations: x y profit restriccion_demanda restriccion_recursos1 restriccion_recursos2\n",
            "# ==========================================================\n",
            "# = Solver Results                                         =\n",
            "# ==========================================================\n",
            "# ----------------------------------------------------------\n",
            "#   Problem Information\n",
            "# ----------------------------------------------------------\n",
            "Problem: \n",
            "- Name: unknown\n",
            "  Lower bound: 2600.0\n",
            "  Upper bound: 2600.0\n",
            "  Number of objectives: 1\n",
            "  Number of constraints: 3\n",
            "  Number of variables: 2\n",
            "  Number of nonzeros: 5\n",
            "  Sense: maximize\n",
            "# ----------------------------------------------------------\n",
            "#   Solver Information\n",
            "# ----------------------------------------------------------\n",
            "Solver: \n",
            "- Status: ok\n",
            "  Termination condition: optimal\n",
            "  Statistics: \n",
            "    Branch and bound: \n",
            "      Number of bounded subproblems: 0\n",
            "      Number of created subproblems: 0\n",
            "  Error rc: 0\n",
            "  Time: 0.008794307708740234\n",
            "# ----------------------------------------------------------\n",
            "#   Solution Information\n",
            "# ----------------------------------------------------------\n",
            "Solution: \n",
            "- number of solutions: 0\n",
            "  number of solutions displayed: 0\n",
            "\n",
            "Función Objetivo =  2600.0\n",
            "\n",
            "Variables de Decisión\n",
            "x =  20.0\n",
            "y =  60.0\n",
            "\n",
            "Restricciones\n",
            "Demanda  =  20.0\n",
            "Recursos 1 =  80.0\n",
            "Recursos 2 =  100.0\n"
          ]
        }
      ]
    }
  ]
}